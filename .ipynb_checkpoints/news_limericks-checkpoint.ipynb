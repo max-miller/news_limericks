{
 "cells": [
  {
   "cell_type": "markdown",
   "metadata": {},
   "source": [
    "# Limericks and News"
   ]
  },
  {
   "cell_type": "markdown",
   "metadata": {},
   "source": [
    "The limerick packs laughs anatomical.\n",
    "\n",
    "Into space that is quite economical.\n",
    "\n",
    "But the good ones I've seen.\n",
    "\n",
    "So seldom are clean.\n",
    "\n",
    "And the clean ones so seldom are comical.\n",
    "\n",
    "#### Limerick Form:\n",
    "A ^^- ^^- ^^-\n",
    "\n",
    "A ^^- ^^- ^^-\n",
    "\n",
    "B ^^- ^^-\n",
    "\n",
    "B ^^- ^^-\n",
    "\n",
    "A ^^- ^^- ^^-"
   ]
  },
  {
   "cell_type": "code",
   "execution_count": 2,
   "metadata": {},
   "outputs": [],
   "source": [
    "import re\n",
    "import nltk\n",
    "import requests\n",
    "import pandas as pd\n",
    "import sqlite3\n",
    "conn = sqlite3.connect('database.sqlite')\n",
    "c = conn.cursor()\n",
    "import numpy as np\n",
    "import json"
   ]
  },
  {
   "cell_type": "code",
   "execution_count": null,
   "metadata": {},
   "outputs": [],
   "source": [
    "#New York Times\n",
    "\n",
    "#api_key = 'xQnzVylvmGHfGWNKzhP6AvSpBTr1fpcK'\n",
    "\n",
    "# def api_calls(api_key):\n",
    "#     resp = requests.get('https://api.nytimes.com/svc/mostpopular/v2/viewed/1.json?api-key=(api_key)')\n",
    "#     df = pd.DataFrame(data['results'])\n",
    "#     top_df = df[df.views < 6]\n",
    "#     words = top_df.adx_keywords.apply([lambda x: x.split()[0]])\n",
    "#     key_words = list(words['<lambda>'])\n",
    "#     headlines = list(top_df.title)\n",
    "#     return key_words,headlines\n",
    "               "
   ]
  },
  {
   "cell_type": "code",
   "execution_count": 315,
   "metadata": {},
   "outputs": [],
   "source": [
    "#News API Top Headlines\n",
    "from newsapi import NewsApiClient\n",
    "\n",
    "def api_call(api_key):\n",
    "    newsapi = NewsApiClient(api_key='681331e3618f422795336e18bb57a528')\n",
    "    top_headlines = newsapi.get_top_headlines(sources='the-new-york-times')\n",
    "    df = pd.DataFrame(top_headlines['articles'])\n",
    "    df = df.loc[0:4]\n",
    "                                        "
   ]
  },
  {
   "cell_type": "code",
   "execution_count": 316,
   "metadata": {},
   "outputs": [],
   "source": [
    "df = df.loc[0:4]"
   ]
  },
  {
   "cell_type": "code",
   "execution_count": 323,
   "metadata": {},
   "outputs": [],
   "source": [
    "combined = df.title + df.description + df.content"
   ]
  },
  {
   "cell_type": "code",
   "execution_count": 330,
   "metadata": {},
   "outputs": [],
   "source": [
    "article1 = combined[0]"
   ]
  },
  {
   "cell_type": "code",
   "execution_count": 334,
   "metadata": {},
   "outputs": [
    {
     "data": {
      "text/plain": [
       "'‘leave tanks for red square’: trump’s july 4 celebration unsettles militarypresident trump’s plan to deploy battle tanks in washington for the july 4 celebration has prompted worries about politicization of the military.a third official said that the ceremony would cost the military well over $1 million and that many in the pentagon saw it as a waste of resources and money.\\r\\nit is unclear what the presidents salute to the armed forces will cost american taxpayers. it has alr… [+1882 chars]'"
      ]
     },
     "execution_count": 334,
     "metadata": {},
     "output_type": "execute_result"
    }
   ],
   "source": [
    "article1.lower()"
   ]
  },
  {
   "cell_type": "code",
   "execution_count": 335,
   "metadata": {},
   "outputs": [],
   "source": [
    "from string import punctuation\n",
    "def strip_punctuation(s):\n",
    "    return ''.join(c for c in s if c not in punctuation)"
   ]
  },
  {
   "cell_type": "code",
   "execution_count": 336,
   "metadata": {},
   "outputs": [
    {
     "data": {
      "text/plain": [
       "'‘Leave Tanks for Red Square’ Trump’s July 4 Celebration Unsettles MilitaryPresident Trump’s plan to deploy battle tanks in Washington for the July 4 celebration has prompted worries about politicization of the militaryA third official said that the ceremony would cost the military well over 1 million and that many in the Pentagon saw it as a waste of resources and money\\r\\nIt is unclear what the presidents salute to the armed forces will cost American taxpayers It has alr… 1882 chars'"
      ]
     },
     "execution_count": 336,
     "metadata": {},
     "output_type": "execute_result"
    }
   ],
   "source": [
    "strip_punctuation(article1)"
   ]
  },
  {
   "cell_type": "code",
   "execution_count": null,
   "metadata": {},
   "outputs": [],
   "source": []
  }
 ],
 "metadata": {
  "kernelspec": {
   "display_name": "Python 3",
   "language": "python",
   "name": "python3"
  },
  "language_info": {
   "codemirror_mode": {
    "name": "ipython",
    "version": 3
   },
   "file_extension": ".py",
   "mimetype": "text/x-python",
   "name": "python",
   "nbconvert_exporter": "python",
   "pygments_lexer": "ipython3",
   "version": "3.7.3"
  }
 },
 "nbformat": 4,
 "nbformat_minor": 2
}
